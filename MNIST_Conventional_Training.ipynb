{
  "cells": [
    {
      "metadata": {
        "id": "fKrKpF9cMIOt",
        "colab_type": "text"
      },
      "cell_type": "markdown",
      "source": "**Initialization**\n\n\n---\n\n"
    },
    {
      "metadata": {
        "id": "1qlQ9l6JMDu5",
        "colab_type": "text"
      },
      "cell_type": "markdown",
      "source": "Imports"
    },
    {
      "metadata": {
        "id": "AaAfGnH1Lr0Q",
        "colab_type": "code",
        "colab": {},
        "trusted": true
      },
      "cell_type": "code",
      "source": "import tensorflow as tf\nfrom tensorflow import keras\nimport numpy as np",
      "execution_count": null,
      "outputs": []
    },
    {
      "metadata": {
        "id": "8ZR_kLD1ME9g",
        "colab_type": "text"
      },
      "cell_type": "markdown",
      "source": "Hyperparameters"
    },
    {
      "metadata": {
        "id": "iQQksgOtMCd7",
        "colab_type": "code",
        "colab": {},
        "trusted": true
      },
      "cell_type": "code",
      "source": "n_epoch = 250\nbatch_size = 50\nthreshold = 128\nlearning_rate = 0.0001\n\n\ninput_feature_dimension = 2\nhidden_feature_dimension = 5\noutput_feature_dimension = 10",
      "execution_count": null,
      "outputs": []
    },
    {
      "metadata": {
        "id": "Bp-OMUbaMLQZ",
        "colab_type": "text"
      },
      "cell_type": "markdown",
      "source": "Import MNIST"
    },
    {
      "metadata": {
        "id": "KX28szqWMNAo",
        "colab_type": "code",
        "colab": {},
        "trusted": true
      },
      "cell_type": "code",
      "source": "mnist = keras.datasets.mnist\n(training_images, training_labels), (test_images, test_labels) = mnist.load_data()",
      "execution_count": null,
      "outputs": []
    },
    {
      "metadata": {
        "id": "LVk0xYs9MZ-0",
        "colab_type": "text"
      },
      "cell_type": "markdown",
      "source": "**Data formatting**\n\n\n---\n\n"
    },
    {
      "metadata": {
        "id": "Ejly526bMbxX",
        "colab_type": "text"
      },
      "cell_type": "markdown",
      "source": "Methods for formatting the dataset"
    },
    {
      "metadata": {
        "id": "LZGc7Hh0M6sN",
        "colab_type": "code",
        "colab": {},
        "trusted": true
      },
      "cell_type": "code",
      "source": "def format_data_conventional(image):\n  data = np.zeros((28*28), dtype=int)\n  for i in range(28):\n    for j in range(28):\n      if image[i][j] > threshold:\n        data[j*28+i] = 1\n  return data\n\ndef generate_images_conventional(images):\n  image_array = ([])\n  for i in range(len(images)):\n    image_array.append(format_data_conventional(images[i]))\n  return np.array(image_array)\n\ndef format_label(labels):\n    label_array = []\n    for i in range(len(labels)):\n        label = np.zeros(10)\n        label[labels[i]] = 1\n        label_array.append(label)\n    return np.array(label_array)",
      "execution_count": null,
      "outputs": []
    },
    {
      "metadata": {
        "id": "ka2AfWwxRH0t",
        "colab_type": "text"
      },
      "cell_type": "markdown",
      "source": "Calculate training data and test data using the previously defined methods"
    },
    {
      "metadata": {
        "id": "m5gnMeGsRMav",
        "colab_type": "code",
        "colab": {},
        "trusted": true
      },
      "cell_type": "code",
      "source": "training_data_conventional = generate_images_conventional(training_images)\ntest_data_conventional = generate_images_conventional(test_images)\ntraining_label = format_label(training_labels)\ntest_label = format_label(test_labels)",
      "execution_count": null,
      "outputs": []
    },
    {
      "metadata": {
        "id": "RJoZYMBuSw7U",
        "colab_type": "code",
        "colab": {},
        "trusted": true
      },
      "cell_type": "code",
      "source": "print(\"Training data shape  = \", training_data_conventional.shape,\n     \"\\nTest data shape      = \", test_data_conventional.shape,\n     \"\\nTraining label shape = \", training_label.shape,\n     \"\\nTest label shape     = \", test_label.shape)",
      "execution_count": null,
      "outputs": []
    },
    {
      "metadata": {
        "id": "OUtR-y5zVA_F",
        "colab_type": "text"
      },
      "cell_type": "markdown",
      "source": "**The Network**\n\n\n---\n\n"
    },
    {
      "metadata": {
        "id": "jwIocJTwVEkN",
        "colab_type": "text"
      },
      "cell_type": "markdown",
      "source": "Structure"
    },
    {
      "metadata": {
        "id": "6L8S_z5PVFo6",
        "colab_type": "code",
        "colab": {},
        "trusted": true
      },
      "cell_type": "code",
      "source": "# Update this string when altering the network\nnetwork_stats = '128-128-10'\n\n# Initialization of input, output and mask shapes\nx = tf.placeholder(tf.float32, [None, (28*28)])\ny = tf.placeholder(tf.float32, [None, output_feature_dimension])\n\n# The network:\n\ninput_layer = tf.layers.dense(inputs=x, units=128, activation=tf.nn.relu)\nhidden_layer_1 = \\\n  tf.layers.dense(inputs=input_layer, units = 128, activation=tf.nn.relu)\noutput_layer = \\\ntf.layers.dense(inputs=hidden_layer_1, units=output_feature_dimension)\n\noutput_softmax = tf.nn.softmax(output_layer)\ny_pred = tf.argmax(output_layer, axis=1)",
      "execution_count": null,
      "outputs": []
    },
    {
      "metadata": {
        "id": "Vgw4jb_WbmbQ",
        "colab_type": "text"
      },
      "cell_type": "markdown",
      "source": "Loss function and optimizer is defined"
    },
    {
      "metadata": {
        "id": "woSCgvWaYexG",
        "colab_type": "code",
        "colab": {},
        "trusted": true
      },
      "cell_type": "code",
      "source": "loss = \\\n  tf.reduce_mean(tf.nn.softmax_cross_entropy_with_logits_v2(labels=y, \n                                                            logits=output_layer))\noptimize = tf.train.AdamOptimizer(learning_rate).minimize(loss)",
      "execution_count": null,
      "outputs": []
    },
    {
      "metadata": {
        "id": "Xwlw2wjfbrJw",
        "colab_type": "text"
      },
      "cell_type": "markdown",
      "source": "A method for calculating the correct prediction percentage of the network is defined here."
    },
    {
      "metadata": {
        "id": "YcUqgtetbrdU",
        "colab_type": "code",
        "colab": {},
        "trusted": true
      },
      "cell_type": "code",
      "source": "prediction_array = ([])\ndef predictions(output, labels):\n    correct = 0;\n    for i in range (output.size):\n        if output[i] == labels[i]:\n            correct = correct + 1\n    percentage = str(correct/output.size*100)\n    prediction_array.append(percentage)\n    return (\"Correct: \" + percentage + \"%\")",
      "execution_count": null,
      "outputs": []
    },
    {
      "metadata": {
        "id": "-gMtlE25bufJ",
        "colab_type": "text"
      },
      "cell_type": "markdown",
      "source": "**Running the network**\n\n\n---\n\n"
    },
    {
      "metadata": {
        "id": "tyf-jl7Lbweg",
        "colab_type": "text"
      },
      "cell_type": "markdown",
      "source": "Training the network"
    },
    {
      "metadata": {
        "id": "wmSz5zuhbtWN",
        "colab_type": "code",
        "colab": {},
        "trusted": true
      },
      "cell_type": "code",
      "source": "with tf.train.MonitoredSession() as sess:\n  for epoch in range(n_epoch):\n\n    for i in range(training_data_conventional.shape[0]//batch_size):\n      sess.run(optimize, \n               {x: training_data_conventional[i*batch_size:(i+1)*batch_size], \n                y: training_label[i*batch_size:(i+1)*batch_size]})\n\n      test_loss = \\\n        sess.run(loss, \n                 {x:training_data_conventional[i*batch_size:(i+1)*batch_size], \n                  y: training_label[i*batch_size:(i+1)*batch_size]})\n            \n      y_val, y_pred_val = \\\n        sess.run([output_softmax, y_pred], {x: test_data_conventional})\n      \n    print('Epoch: ' , epoch, ' - Loss: ', str(test_loss))\n        \n    if ((epoch % 1) == 0):\n     pred = predictions(y_pred_val, test_labels)\n     print(pred)\n\nprint(\"Done\")",
      "execution_count": null,
      "outputs": []
    },
    {
      "metadata": {
        "id": "YssMHTxTMkz4",
        "colab_type": "text"
      },
      "cell_type": "markdown",
      "source": "Displaying the results"
    },
    {
      "metadata": {
        "id": "X467_vAdMh0S",
        "colab_type": "code",
        "colab": {},
        "trusted": true
      },
      "cell_type": "code",
      "source": "ID_string = \\\n    str(network_stats) + \\\n    \".-E\" + str(n_epoch) + \\\n    \"-BS\" + str(batch_size) + \\\n    \"-LR\" + str(learning_rate) + \\\n    \"-TH\" + str(threshold)\nprint(ID_string)\nprint('Test loss:', test_loss)\npredictions(y_pred_val, test_labels)",
      "execution_count": null,
      "outputs": []
    }
  ],
  "metadata": {
    "colab": {
      "name": "MNIST_Conventional_Training.ipynb",
      "version": "0.3.2",
      "provenance": [],
      "collapsed_sections": []
    },
    "kernelspec": {
      "name": "python3",
      "display_name": "Python 3",
      "language": "python"
    },
    "language_info": {
      "mimetype": "text/x-python",
      "nbconvert_exporter": "python",
      "name": "python",
      "pygments_lexer": "ipython3",
      "version": "3.5.4",
      "file_extension": ".py",
      "codemirror_mode": {
        "version": 3,
        "name": "ipython"
      }
    }
  },
  "nbformat": 4,
  "nbformat_minor": 1
}